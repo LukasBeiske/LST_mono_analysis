{
 "cells": [
  {
   "cell_type": "code",
   "execution_count": 1,
   "metadata": {},
   "outputs": [],
   "source": [
    "import numpy as np\n",
    "\n",
    "from astropy.table import QTable\n",
    "from astropy.io import fits\n",
    "import astropy.units as u"
   ]
  },
  {
   "cell_type": "markdown",
   "metadata": {},
   "source": [
    "## Check pyirf file"
   ]
  },
  {
   "cell_type": "code",
   "execution_count": 2,
   "metadata": {},
   "outputs": [
    {
     "name": "stdout",
     "output_type": "stream",
     "text": [
      "Filename: ../build/pyirf.fits.gz\n",
      "No.    Name      Ver    Type      Cards   Dimensions   Format\n",
      "  0  PRIMARY       1 PrimaryHDU       4   ()      \n",
      "  1  SENSITIVITY    1 BinTableHDU     45   23R x 14C   [D, D, D, D, D, D, D, D, D, D, D, D, D, D]   \n",
      "  2  SENSITIVITY_STEP_2    1 BinTableHDU     45   23R x 14C   [D, D, D, D, D, D, D, D, D, D, D, D, D, D]   \n",
      "  3  THETA_CUTS    1 BinTableHDU     21   107R x 4C   [D, D, D, D]   \n",
      "  4  THETA_CUTS_OPT    1 BinTableHDU     21   107R x 4C   [D, D, D, D]   \n",
      "  5  GH_CUTS       1 BinTableHDU     20   23R x 4C   [D, D, D, D]   \n",
      "  6  SENSITIVITY_UNOP    1 BinTableHDU     45   23R x 14C   [D, D, D, D, D, D, D, D, D, D, D, D, D, D]   \n",
      "  7  EFFECTIVE_AREA    1 BinTableHDU     38   1R x 5C   [44D, 44D, D, D, 44D]   \n",
      "  8  ENERGY_DISPERSION    1 BinTableHDU     46   1R x 7C   [44D, 44D, 199D, 199D, D, D, 8756D]   \n",
      "  9  EFFECTIVE_AREA_NO_CUTS    1 BinTableHDU     38   1R x 5C   [44D, 44D, D, D, 44D]   \n",
      " 10  ENERGY_DISPERSION_NO_CUTS    1 BinTableHDU     46   1R x 7C   [44D, 44D, 199D, 199D, D, D, 8756D]   \n",
      " 11  EFFECTIVE_AREA_ONLY_GH    1 BinTableHDU     38   1R x 5C   [44D, 44D, D, D, 44D]   \n",
      " 12  ENERGY_DISPERSION_ONLY_GH    1 BinTableHDU     46   1R x 7C   [44D, 44D, 199D, 199D, D, D, 8756D]   \n",
      " 13  EFFECTIVE_AREA_ONLY_THETA    1 BinTableHDU     38   1R x 5C   [44D, 44D, D, D, 44D]   \n",
      " 14  ENERGY_DISPERSION_ONLY_THETA    1 BinTableHDU     46   1R x 7C   [44D, 44D, 199D, 199D, D, D, 8756D]   \n",
      " 15  BACKGROUND    1 BinTableHDU     38   1R x 5C   [23D, 23D, 10D, 10D, 230D]   \n",
      " 16  PSF           1 BinTableHDU     46   1R x 7C   [44D, 44D, D, D, 1000D, 1000D, 44000D]   \n",
      " 17  RAD_MAX       1 BinTableHDU     38   1R x 5C   [107D, 107D, D, D, 107D]   \n",
      " 18  ANGULAR_RESOLUTION    1 BinTableHDU     21   44R x 4C   [D, D, D, D]   \n",
      " 19  ENERGY_BIAS_RESOLUTION    1 BinTableHDU     22   44R x 5C   [D, D, D, D, D]   \n"
     ]
    }
   ],
   "source": [
    "pyirf_file = '../build/pyirf.fits.gz' \n",
    "\n",
    "with fits.open(pyirf_file) as hdul:\n",
    "    hdul.info()"
   ]
  },
  {
   "cell_type": "code",
   "execution_count": 3,
   "metadata": {},
   "outputs": [],
   "source": [
    "theta_cuts = QTable.read(pyirf_file, hdu='THETA_CUTS_OPT')\n",
    "gh_cuts = QTable.read(pyirf_file, hdu='GH_CUTS')\n"
   ]
  },
  {
   "cell_type": "markdown",
   "metadata": {},
   "source": [
    "## Check DL3 files"
   ]
  },
  {
   "cell_type": "code",
   "execution_count": 4,
   "metadata": {
    "scrolled": true
   },
   "outputs": [
    {
     "name": "stdout",
     "output_type": "stream",
     "text": [
      "Filename: ../build/2934.fits.gz\n",
      "No.    Name      Ver    Type      Cards   Dimensions   Format\n",
      "  0  PRIMARY       1 PrimaryHDU       4   ()      \n",
      "  1  EVENTS        1 BinTableHDU     44   19868R x 6C   [D, D, K, D, D, D]   \n",
      "  2  POINTING      1 BinTableHDU     30   19868R x 3C   [D, D, D]   \n",
      "  3  GTI           1 BinTableHDU     24   1R x 2C   [D, D]   \n",
      "None\n"
     ]
    },
    {
     "data": {
      "text/html": [
       "<i>QTable length=342</i>\n",
       "<table id=\"table139745452665008\" class=\"table-striped table-bordered table-condensed\">\n",
       "<thead><tr><th>RA</th><th>DEC</th><th>EVENT_ID</th><th>TIME</th><th>ENERGY</th><th>THETA_ON</th></tr></thead>\n",
       "<thead><tr><th>deg</th><th>deg</th><th></th><th>s</th><th>TeV</th><th>deg</th></tr></thead>\n",
       "<thead><tr><th>float64</th><th>float64</th><th>int64</th><th>float64</th><th>float64</th><th>float64</th></tr></thead>\n",
       "<tr><td>83.73009817349596</td><td>22.01906192588854</td><td>3209</td><td>1605756523.013296</td><td>0.1264628381644903</td><td>0.09005556754653124</td></tr>\n",
       "<tr><td>83.71902024708757</td><td>22.10646518962497</td><td>25144</td><td>1605756525.8838787</td><td>0.2266755232119085</td><td>0.1216592242528923</td></tr>\n",
       "<tr><td>83.53266596813226</td><td>21.98271716861429</td><td>38611</td><td>1605756527.6648858</td><td>0.21295147571568662</td><td>0.09838152909434242</td></tr>\n",
       "<tr><td>83.50109119630864</td><td>22.13615385472623</td><td>70786</td><td>1605756531.8600824</td><td>0.05266938413354615</td><td>0.1725132505102446</td></tr>\n",
       "<tr><td>83.68491689387461</td><td>21.98988096730017</td><td>115696</td><td>1605756537.74043</td><td>0.09103564700936358</td><td>0.053997372444947275</td></tr>\n",
       "<tr><td>83.67218849252872</td><td>22.078164929827672</td><td>127531</td><td>1605756539.2842662</td><td>0.15118306154501582</td><td>0.07325969126542127</td></tr>\n",
       "<tr><td>83.67834831888412</td><td>22.17523628732336</td><td>128979</td><td>1605756539.4761703</td><td>1.7740725743402672</td><td>0.16611798766509722</td></tr>\n",
       "<tr><td>83.50060113641302</td><td>22.09332143360074</td><td>148313</td><td>1605756541.9846823</td><td>0.060929213869800415</td><td>0.14591043201770992</td></tr>\n",
       "<tr><td>83.6785715487366</td><td>22.006949540310178</td><td>168779</td><td>1605756544.655647</td><td>0.22587257133903085</td><td>0.042843323912449806</td></tr>\n",
       "<tr><td>...</td><td>...</td><td>...</td><td>...</td><td>...</td><td>...</td></tr>\n",
       "<tr><td>83.7360389888315</td><td>22.034374004026887</td><td>8915651</td><td>1605757668.0283632</td><td>0.32227766801057595</td><td>0.09748959368274908</td></tr>\n",
       "<tr><td>83.68216325378178</td><td>21.923921080055184</td><td>8921207</td><td>1605757668.7506874</td><td>0.038535955456439105</td><td>0.10137181607819763</td></tr>\n",
       "<tr><td>83.67470844635197</td><td>22.03107914708802</td><td>8956378</td><td>1605757673.2198129</td><td>0.1093760850423809</td><td>0.04199876761109694</td></tr>\n",
       "<tr><td>83.54612864202917</td><td>22.071456335270867</td><td>9013718</td><td>1605757680.5364401</td><td>0.09005195293778573</td><td>0.09869217582504512</td></tr>\n",
       "<tr><td>83.70789951747953</td><td>22.097901249614377</td><td>9014138</td><td>1605757680.5889394</td><td>1.679920937371324</td><td>0.10846160021221042</td></tr>\n",
       "<tr><td>83.54772081682785</td><td>22.144078726110603</td><td>9038374</td><td>1605757683.6882246</td><td>0.04301154512418242</td><td>0.15181513209848288</td></tr>\n",
       "<tr><td>83.70378720629685</td><td>22.07162678297875</td><td>9068841</td><td>1605757687.589917</td><td>0.18227893549567903</td><td>0.08693893997008656</td></tr>\n",
       "<tr><td>83.60724711431851</td><td>21.912470270706883</td><td>9081798</td><td>1605757689.2262452</td><td>0.054530839340744305</td><td>0.1048055296260443</td></tr>\n",
       "<tr><td>83.67142071511661</td><td>22.05301907188876</td><td>9114813</td><td>1605757693.4560606</td><td>0.5208237389035051</td><td>0.052408215932968606</td></tr>\n",
       "<tr><td>83.67892828723639</td><td>22.08563181480689</td><td>9183775</td><td>1605757702.3139117</td><td>0.16699773620279043</td><td>0.08285697127437378</td></tr>\n",
       "</table>"
      ],
      "text/plain": [
       "<QTable length=342>\n",
       "        RA               DEC         ...       THETA_ON      \n",
       "       deg               deg         ...         deg         \n",
       "     float64           float64       ...       float64       \n",
       "----------------- ------------------ ... --------------------\n",
       "83.73009817349596  22.01906192588854 ...  0.09005556754653124\n",
       "83.71902024708757  22.10646518962497 ...   0.1216592242528923\n",
       "83.53266596813226  21.98271716861429 ...  0.09838152909434242\n",
       "83.50109119630864  22.13615385472623 ...   0.1725132505102446\n",
       "83.68491689387461  21.98988096730017 ... 0.053997372444947275\n",
       "83.67218849252872 22.078164929827672 ...  0.07325969126542127\n",
       "83.67834831888412  22.17523628732336 ...  0.16611798766509722\n",
       "83.50060113641302  22.09332143360074 ...  0.14591043201770992\n",
       " 83.6785715487366 22.006949540310178 ... 0.042843323912449806\n",
       "              ...                ... ...                  ...\n",
       " 83.7360389888315 22.034374004026887 ...  0.09748959368274908\n",
       "83.68216325378178 21.923921080055184 ...  0.10137181607819763\n",
       "83.67470844635197  22.03107914708802 ...  0.04199876761109694\n",
       "83.54612864202917 22.071456335270867 ...  0.09869217582504512\n",
       "83.70789951747953 22.097901249614377 ...  0.10846160021221042\n",
       "83.54772081682785 22.144078726110603 ...  0.15181513209848288\n",
       "83.70378720629685  22.07162678297875 ...  0.08693893997008656\n",
       "83.60724711431851 21.912470270706883 ...   0.1048055296260443\n",
       "83.67142071511661  22.05301907188876 ... 0.052408215932968606\n",
       "83.67892828723639  22.08563181480689 ...  0.08285697127437378"
      ]
     },
     "execution_count": 4,
     "metadata": {},
     "output_type": "execute_result"
    }
   ],
   "source": [
    "file_2934 = '../build/2934.fits.gz' \n",
    "\n",
    "with fits.open(file_2934) as hdul:\n",
    "    print(hdul.info())\n",
    "    #print(hdul[1].header)\n",
    "    \n",
    "events = QTable.read(file_2934, hdu='EVENTS')\n",
    "events[events['THETA_ON'] < (np.sqrt(0.03) * u.deg)]"
   ]
  },
  {
   "cell_type": "code",
   "execution_count": 5,
   "metadata": {
    "scrolled": true
   },
   "outputs": [
    {
     "name": "stdout",
     "output_type": "stream",
     "text": [
      "Filename: ../build/obs-index.fits.gz\n",
      "No.    Name      Ver    Type      Cards   Dimensions   Format\n",
      "  0  PRIMARY       1 PrimaryHDU       4   ()      \n",
      "  1  OBS_INDEX     1 BinTableHDU     39   37R x 6C   [K, D, D, D, D, D]   \n",
      "None\n"
     ]
    },
    {
     "data": {
      "text/html": [
       "<i>QTable length=37</i>\n",
       "<table id=\"table139745452241536\" class=\"table-striped table-bordered table-condensed\">\n",
       "<thead><tr><th>OBS_ID</th><th>RA_PNT</th><th>DEC_PNT</th><th>TSTART</th><th>TSTOP</th><th>DEADC</th></tr></thead>\n",
       "<thead><tr><th></th><th>deg</th><th>deg</th><th>s</th><th>s</th><th></th></tr></thead>\n",
       "<thead><tr><th>int64</th><th>float64</th><th>float64</th><th>float64</th><th>float64</th><th>float64</th></tr></thead>\n",
       "<tr><td>2922</td><td>83.96185593647702</td><td>22.24785830018051</td><td>1605741121.0687432</td><td>1605742267.512947</td><td>1.0</td></tr>\n",
       "<tr><td>2923</td><td>83.96409981425566</td><td>22.247033501313425</td><td>1605742374.245378</td><td>1605743559.8012629</td><td>1.0</td></tr>\n",
       "<tr><td>2924</td><td>83.26228671167593</td><td>21.7883571091176</td><td>1605743646.413917</td><td>1605744960.3563714</td><td>1.0</td></tr>\n",
       "<tr><td>2925</td><td>83.26419272359036</td><td>21.787804676161503</td><td>1605745122.0522685</td><td>1605746319.9771025</td><td>1.0</td></tr>\n",
       "<tr><td>2929</td><td>83.97326931598329</td><td>22.244566012012093</td><td>1605750073.094796</td><td>1605751161.621197</td><td>1.0</td></tr>\n",
       "<tr><td>2930</td><td>83.27071734575786</td><td>21.78650367257623</td><td>1605751375.2453027</td><td>1605752563.5867474</td><td>1.0</td></tr>\n",
       "<tr><td>2931</td><td>83.97574519590988</td><td>22.244391259707303</td><td>1605752682.0119164</td><td>1605753855.8521676</td><td>1.0</td></tr>\n",
       "<tr><td>2932</td><td>83.27322942100753</td><td>21.786308726832075</td><td>1605753969.2001355</td><td>1605755151.1819997</td><td>1.0</td></tr>\n",
       "<tr><td>2933</td><td>83.97820712161007</td><td>22.24437063153207</td><td>1605755242.6011646</td><td>1605756428.2058964</td><td>1.0</td></tr>\n",
       "<tr><td>...</td><td>...</td><td>...</td><td>...</td><td>...</td><td>...</td></tr>\n",
       "<tr><td>2992</td><td>83.98150602412505</td><td>22.24475088692554</td><td>1606017163.8406568</td><td>1606018358.0819073</td><td>1.0</td></tr>\n",
       "<tr><td>3004</td><td>83.97949312200713</td><td>22.24440700640967</td><td>1606100450.9650059</td><td>1606101630.3867657</td><td>1.0</td></tr>\n",
       "<tr><td>3005</td><td>83.27608104943101</td><td>21.786624098661413</td><td>1606101731.38096</td><td>1606102894.3562574</td><td>1.0</td></tr>\n",
       "<tr><td>3006</td><td>83.98122794731543</td><td>22.244678650246335</td><td>1606103024.1117692</td><td>1606104190.0378258</td><td>1.0</td></tr>\n",
       "<tr><td>3007</td><td>83.27853853031685</td><td>21.78704181434365</td><td>1606104270.3571923</td><td>1606105467.7357535</td><td>1.0</td></tr>\n",
       "<tr><td>3008</td><td>83.98393262861889</td><td>22.245213069642006</td><td>1606105569.6212142</td><td>1606106760.7372334</td><td>1.0</td></tr>\n",
       "<tr><td>3009</td><td>83.28190232848748</td><td>21.787641874117472</td><td>1606106849.3319163</td><td>1606108128.6557093</td><td>1.0</td></tr>\n",
       "<tr><td>3010</td><td>83.98726595983533</td><td>22.246167299622883</td><td>1606108224.3107145</td><td>1606109397.105096</td><td>1.0</td></tr>\n",
       "<tr><td>3011</td><td>83.2853346811265</td><td>21.788949445087276</td><td>1606109494.6284838</td><td>1606110672.8278685</td><td>1.0</td></tr>\n",
       "<tr><td>3012</td><td>83.9910506582539</td><td>22.24754985210651</td><td>1606110778.2258239</td><td>1606111939.437137</td><td>1.0</td></tr>\n",
       "</table>"
      ],
      "text/plain": [
       "<QTable length=37>\n",
       "OBS_ID       RA_PNT           DEC_PNT       ...       TSTOP         DEADC \n",
       "              deg               deg         ...         s                 \n",
       "int64       float64           float64       ...      float64       float64\n",
       "------ ----------------- ------------------ ... ------------------ -------\n",
       "  2922 83.96185593647702  22.24785830018051 ...  1605742267.512947     1.0\n",
       "  2923 83.96409981425566 22.247033501313425 ... 1605743559.8012629     1.0\n",
       "  2924 83.26228671167593   21.7883571091176 ... 1605744960.3563714     1.0\n",
       "  2925 83.26419272359036 21.787804676161503 ... 1605746319.9771025     1.0\n",
       "  2929 83.97326931598329 22.244566012012093 ...  1605751161.621197     1.0\n",
       "  2930 83.27071734575786  21.78650367257623 ... 1605752563.5867474     1.0\n",
       "  2931 83.97574519590988 22.244391259707303 ... 1605753855.8521676     1.0\n",
       "  2932 83.27322942100753 21.786308726832075 ... 1605755151.1819997     1.0\n",
       "  2933 83.97820712161007  22.24437063153207 ... 1605756428.2058964     1.0\n",
       "   ...               ...                ... ...                ...     ...\n",
       "  2992 83.98150602412505  22.24475088692554 ... 1606018358.0819073     1.0\n",
       "  3004 83.97949312200713  22.24440700640967 ... 1606101630.3867657     1.0\n",
       "  3005 83.27608104943101 21.786624098661413 ... 1606102894.3562574     1.0\n",
       "  3006 83.98122794731543 22.244678650246335 ... 1606104190.0378258     1.0\n",
       "  3007 83.27853853031685  21.78704181434365 ... 1606105467.7357535     1.0\n",
       "  3008 83.98393262861889 22.245213069642006 ... 1606106760.7372334     1.0\n",
       "  3009 83.28190232848748 21.787641874117472 ... 1606108128.6557093     1.0\n",
       "  3010 83.98726595983533 22.246167299622883 ...  1606109397.105096     1.0\n",
       "  3011  83.2853346811265 21.788949445087276 ... 1606110672.8278685     1.0\n",
       "  3012  83.9910506582539  22.24754985210651 ...  1606111939.437137     1.0"
      ]
     },
     "execution_count": 5,
     "metadata": {},
     "output_type": "execute_result"
    }
   ],
   "source": [
    "file_obs = '../build/obs-index.fits.gz' \n",
    "\n",
    "with fits.open(file_obs) as hdul:\n",
    "    print(hdul.info())\n",
    "    #print(hdul[1].header)\n",
    "    \n",
    "obs = QTable.read(file_obs, hdu='OBS_INDEX')\n",
    "obs"
   ]
  },
  {
   "cell_type": "code",
   "execution_count": 6,
   "metadata": {
    "scrolled": true
   },
   "outputs": [
    {
     "name": "stdout",
     "output_type": "stream",
     "text": [
      "Filename: ../build/hdu-index.fits.gz\n",
      "No.    Name      Ver    Type      Cards   Dimensions   Format\n",
      "  0  PRIMARY       1 PrimaryHDU       4   ()      \n",
      "  1  HDU_INDEX     1 BinTableHDU     27   222R x 6C   [K, 6A, 9A, 1A, 13A, 17A]   \n",
      "None\n"
     ]
    },
    {
     "data": {
      "text/html": [
       "<i>QTable length=222</i>\n",
       "<table id=\"table139746122020272\" class=\"table-striped table-bordered table-condensed\">\n",
       "<thead><tr><th>OBS_ID</th><th>HDU_TYPE</th><th>HDU_CLASS</th><th>FILE_DIR</th><th>FILE_NAME</th><th>HDU_NAME</th></tr></thead>\n",
       "<thead><tr><th>int64</th><th>bytes6</th><th>bytes9</th><th>bytes1</th><th>bytes13</th><th>bytes17</th></tr></thead>\n",
       "<tr><td>2922</td><td>events</td><td>events</td><td>.</td><td>2922.fits.gz</td><td>EVENTS</td></tr>\n",
       "<tr><td>2922</td><td>gti</td><td>gti</td><td>.</td><td>2922.fits.gz</td><td>GTI</td></tr>\n",
       "<tr><td>2922</td><td>aeff</td><td>aeff_2d</td><td>.</td><td>pyirf.fits.gz</td><td>EFFECTIVE_AREA</td></tr>\n",
       "<tr><td>2922</td><td>psf</td><td>psf_table</td><td>.</td><td>pyirf.fits.gz</td><td>PSF</td></tr>\n",
       "<tr><td>2922</td><td>edisp</td><td>edisp_2d</td><td>.</td><td>pyirf.fits.gz</td><td>ENERGY_DISPERSION</td></tr>\n",
       "<tr><td>2922</td><td>bkg</td><td>bkg_2d</td><td>.</td><td>pyirf.fits.gz</td><td>BACKGROUND</td></tr>\n",
       "<tr><td>2923</td><td>events</td><td>events</td><td>.</td><td>2923.fits.gz</td><td>EVENTS</td></tr>\n",
       "<tr><td>2923</td><td>gti</td><td>gti</td><td>.</td><td>2923.fits.gz</td><td>GTI</td></tr>\n",
       "<tr><td>2923</td><td>aeff</td><td>aeff_2d</td><td>.</td><td>pyirf.fits.gz</td><td>EFFECTIVE_AREA</td></tr>\n",
       "<tr><td>2923</td><td>psf</td><td>psf_table</td><td>.</td><td>pyirf.fits.gz</td><td>PSF</td></tr>\n",
       "<tr><td>...</td><td>...</td><td>...</td><td>...</td><td>...</td><td>...</td></tr>\n",
       "<tr><td>3011</td><td>aeff</td><td>aeff_2d</td><td>.</td><td>pyirf.fits.gz</td><td>EFFECTIVE_AREA</td></tr>\n",
       "<tr><td>3011</td><td>psf</td><td>psf_table</td><td>.</td><td>pyirf.fits.gz</td><td>PSF</td></tr>\n",
       "<tr><td>3011</td><td>edisp</td><td>edisp_2d</td><td>.</td><td>pyirf.fits.gz</td><td>ENERGY_DISPERSION</td></tr>\n",
       "<tr><td>3011</td><td>bkg</td><td>bkg_2d</td><td>.</td><td>pyirf.fits.gz</td><td>BACKGROUND</td></tr>\n",
       "<tr><td>3012</td><td>events</td><td>events</td><td>.</td><td>3012.fits.gz</td><td>EVENTS</td></tr>\n",
       "<tr><td>3012</td><td>gti</td><td>gti</td><td>.</td><td>3012.fits.gz</td><td>GTI</td></tr>\n",
       "<tr><td>3012</td><td>aeff</td><td>aeff_2d</td><td>.</td><td>pyirf.fits.gz</td><td>EFFECTIVE_AREA</td></tr>\n",
       "<tr><td>3012</td><td>psf</td><td>psf_table</td><td>.</td><td>pyirf.fits.gz</td><td>PSF</td></tr>\n",
       "<tr><td>3012</td><td>edisp</td><td>edisp_2d</td><td>.</td><td>pyirf.fits.gz</td><td>ENERGY_DISPERSION</td></tr>\n",
       "<tr><td>3012</td><td>bkg</td><td>bkg_2d</td><td>.</td><td>pyirf.fits.gz</td><td>BACKGROUND</td></tr>\n",
       "</table>"
      ],
      "text/plain": [
       "<QTable length=222>\n",
       "OBS_ID HDU_TYPE HDU_CLASS FILE_DIR   FILE_NAME        HDU_NAME    \n",
       "int64   bytes6    bytes9   bytes1     bytes13         bytes17     \n",
       "------ -------- --------- -------- ------------- -----------------\n",
       "  2922   events    events        .  2922.fits.gz            EVENTS\n",
       "  2922      gti       gti        .  2922.fits.gz               GTI\n",
       "  2922     aeff   aeff_2d        . pyirf.fits.gz    EFFECTIVE_AREA\n",
       "  2922      psf psf_table        . pyirf.fits.gz               PSF\n",
       "  2922    edisp  edisp_2d        . pyirf.fits.gz ENERGY_DISPERSION\n",
       "  2922      bkg    bkg_2d        . pyirf.fits.gz        BACKGROUND\n",
       "  2923   events    events        .  2923.fits.gz            EVENTS\n",
       "  2923      gti       gti        .  2923.fits.gz               GTI\n",
       "  2923     aeff   aeff_2d        . pyirf.fits.gz    EFFECTIVE_AREA\n",
       "  2923      psf psf_table        . pyirf.fits.gz               PSF\n",
       "   ...      ...       ...      ...           ...               ...\n",
       "  3011     aeff   aeff_2d        . pyirf.fits.gz    EFFECTIVE_AREA\n",
       "  3011      psf psf_table        . pyirf.fits.gz               PSF\n",
       "  3011    edisp  edisp_2d        . pyirf.fits.gz ENERGY_DISPERSION\n",
       "  3011      bkg    bkg_2d        . pyirf.fits.gz        BACKGROUND\n",
       "  3012   events    events        .  3012.fits.gz            EVENTS\n",
       "  3012      gti       gti        .  3012.fits.gz               GTI\n",
       "  3012     aeff   aeff_2d        . pyirf.fits.gz    EFFECTIVE_AREA\n",
       "  3012      psf psf_table        . pyirf.fits.gz               PSF\n",
       "  3012    edisp  edisp_2d        . pyirf.fits.gz ENERGY_DISPERSION\n",
       "  3012      bkg    bkg_2d        . pyirf.fits.gz        BACKGROUND"
      ]
     },
     "execution_count": 6,
     "metadata": {},
     "output_type": "execute_result"
    }
   ],
   "source": [
    "file_hdu = '../build/hdu-index.fits.gz' \n",
    "\n",
    "with fits.open(file_hdu) as hdul:\n",
    "    print(hdul.info())\n",
    "    #print(hdul[1].header)\n",
    "    \n",
    "hdu = QTable.read(file_hdu, hdu='HDU_INDEX')\n",
    "hdu"
   ]
  }
 ],
 "metadata": {
  "kernelspec": {
   "display_name": "Python 3",
   "language": "python",
   "name": "python3"
  },
  "language_info": {
   "codemirror_mode": {
    "name": "ipython",
    "version": 3
   },
   "file_extension": ".py",
   "mimetype": "text/x-python",
   "name": "python",
   "nbconvert_exporter": "python",
   "pygments_lexer": "ipython3",
   "version": "3.8.5"
  }
 },
 "nbformat": 4,
 "nbformat_minor": 4
}
